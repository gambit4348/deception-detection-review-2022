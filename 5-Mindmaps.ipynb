{
 "cells": [
  {
   "cell_type": "markdown",
   "id": "c6e076db-35df-45f0-a9fc-6a5b1ee6e57c",
   "metadata": {},
   "source": [
    "# Deception Detection supported by Machine Learning"
   ]
  },
  {
   "cell_type": "markdown",
   "id": "149c6054-804a-4f57-969a-efdbf7287b09",
   "metadata": {},
   "source": [
    "## Literature Review - Mind maps\n",
    "This notebook is devoted to show all the mind maps built as a summary of all the selected studies.\n",
    "\n",
    "Mind maps are ascendingly sorted by publishing year and title. Each section shows the article title, the bibliographic reference and the mind map extracted during the full text reading."
   ]
  },
  {
   "cell_type": "markdown",
   "id": "0eb07f42-4928-4c29-b298-7e3eabf99b86",
   "metadata": {},
   "source": [
    "#### 1. Move, and I will tell you who you are: Detecting deceptive roles in low-quality data\n",
    "```\n",
    "Raiman N, Hung H, Englebienne G. Move, and I will tell you who you are: Detecting deceptive roles in low-quality data.\n",
    "ICMI’11 - Proc 2011 ACM Int Conf Multimodal Interact. 2011; 201–4. \n",
    "```\n",
    "![Move, and I will tell you who you are: Detecting deceptive roles in low-quality data](Mindmaps/2011-RAIMAN-Move.jpeg)\n",
    "\n"
   ]
  },
  {
   "cell_type": "markdown",
   "id": "d17b1004-af67-4ba1-b4a7-6a9fc89fb279",
   "metadata": {},
   "source": [
    "#### 2. Challenges in automated deception detection in computer-mediated communication\n",
    "```\n",
    "Rubin V. L., Conroy N. J. Challenges in automated deception detection in computer-mediated communication.\n",
    "Proc ASIST Annu Meet. 2011; 48. \n",
    "```\n",
    "![Challenges in automated deception detection in computer-mediated communication](Mindmaps/2011-RUBIN-Challenges.jpeg)\n"
   ]
  },
  {
   "cell_type": "markdown",
   "id": "802992e8-d5d4-4ef1-83c7-06db31b076e1",
   "metadata": {},
   "source": [
    "#### 3. The Voice and Eye Gaze Behavior of an Imposter: Automated Interviewing and Detection for Rapid Screening at the Border\n",
    "```\n",
    "Elkins A. C. , Derrick D. C. , Gariup M. The Voice and Eye Gaze Behavior of an Imposter: Automated Interviewing and Detection for Rapid Screening at the Border.\n",
    "Conf Eur Chapter Assoc Comput Linguist. 2012; 49–54. \n",
    "```\n",
    "![The Voice and Eye Gaze Behavior of an Imposter: Automated Interviewing and Detection for Rapid Screening at the Border](Mindmaps/2012-ELKINS-TheVoice.jpeg)"
   ]
  },
  {
   "cell_type": "markdown",
   "id": "7bd6d7a0-ab2f-4015-a4ca-9f494f54b626",
   "metadata": {},
   "source": [
    "#### 4. Syntactic Stylometry for Deception Detection\n",
    "```\n",
    "Feng S., Banerjee R., Choi Y. Syntactic stylometry for deception detection.\n",
    "50th Annu Meet Assoc Comput Linguist ACL 2012 - Proc Conf. 2012; 2(July):171–5. \n",
    "```\n",
    "![Syntactic Stylometry for Deception Detection](Mindmaps/2012-FENG-Syntactic.jpeg)"
   ]
  },
  {
   "cell_type": "markdown",
   "id": "1a01a8c1-1ce9-4350-8eef-1cfcf2480f02",
   "metadata": {},
   "source": [
    "#### 5. On the Use of Homogenous Sets of Subjects in Deceptive Language Analysis\n",
    "```\n",
    "Fornaciari T., Poesio M. On the use of homogenous sets of subjects in deceptive language analysis.\n",
    "Comput Linguist Proc Work Comput Approaches to Decept Detect. 2012; 39–47. \n",
    "```\n",
    "![On the Use of Homogenous Sets of Subjects in Deceptive Language Analysis](Mindmaps/2012-FORNACIARI-OnTheUse.jpeg)"
   ]
  },
  {
   "cell_type": "markdown",
   "id": "8763cf13-c5e3-441e-8ce2-5e2f922b1497",
   "metadata": {},
   "source": [
    "#### 6. Discerning truth from deception: Human judgments and automation efforts\n",
    "```\n",
    "Rubin V. L., Conroy N. Discerning truth from deception: Human judgments and automation efforts.\n",
    "First Monday. 2012; 17(3). \n",
    "```\n",
    "![Discerning truth from deception: Human judgments and automation efforts](Mindmaps/2012-RUBIN-Discerning.jpeg)"
   ]
  },
  {
   "cell_type": "markdown",
   "id": "3191e9b7-f7e1-454c-bafd-2f8e12bb9ff5",
   "metadata": {
    "tags": []
   },
   "source": [
    "#### 7. Seeing through Deception: A Computational Approach to Deceit Detection in Spanish Written Communication\n",
    "```\n",
    "Almela Á., Valencia-García R., Cantos P. Seeing through Deception: A Computational Approach to Deceit Detection in Spanish Written Communication.\n",
    "Linguist Evid Secur Law Intell. 2013; 1(1):3–12. \n",
    "```\n",
    "![Seeing through Deception: A Computational Approach to Deceit Detection in Spanish Written Communication](Mindmaps/2013-ALMELA-Seeing.jpeg)"
   ]
  },
  {
   "cell_type": "markdown",
   "id": "d6b230bd-c0d5-4f7d-aa05-1bbd36104ceb",
   "metadata": {},
   "source": [
    "#### 8. Automatic detection of deceit in verbal communication\n",
    "```\n",
    "Mihalcea R., Pérez-Rosas V., Burzo M. Automatic detection of deceit in verbal communication.\n",
    "ICMI 2013 - Proc 2013 ACM Int Conf Multimodal Interact. 2013; 131–4. \n",
    "```\n",
    "![Automatic detection of deceit in verbal communication](Mindmaps/2013-MIHALCEA-Automatic.jpeg)"
   ]
  },
  {
   "cell_type": "markdown",
   "id": "6a0b3330-1dbd-4e45-a226-d7fb5a55e078",
   "metadata": {},
   "source": [
    "#### 9. Deception detection in speech using bark band and perceptually significant energy features\n",
    "```\n",
    "Sanaullah M, Gopalan K. Deception detection in speech using bark band and perceptually significant energy features.\n",
    "Midwest Symp Circuits Syst. 2013; 1212–5. \n",
    "```\n",
    "![Deception detection in speech using bark band and perceptually significant energy features](Mindmaps/2013-SANAULLAH-Deception.jpeg)"
   ]
  },
  {
   "cell_type": "markdown",
   "id": "c1f19731-1f32-4e75-981a-57c1447f6ba7",
   "metadata": {},
   "source": [
    "#### 10. Deception Detection Using a Multimodal Approach\n",
    "```\n",
    "Abouelenien M., Pérez-Rosas V., Mihalcea R., Burzo M. Deception detection using a multimodal approach.\n",
    "ICMI 2014 - Proc 2014 Int Conf Multimodal Interact. 2014; 58–65. \n",
    "```\n",
    "![Deception Detection Using a Multimodal Approach](Mindmaps/2014-ABOUELENIEN-Deception.jpeg)\n"
   ]
  },
  {
   "cell_type": "markdown",
   "id": "7111a158-e34e-49c4-a8d5-a7d33807e461",
   "metadata": {},
   "source": [
    "#### 11. Cues to deception in social media communications\n",
    "```\n",
    "Briscoe E. J., Appling D. S., Hayes H. Cues to deception in social media communications.\n",
    "Proc Annu Hawaii Int Conf Syst Sci. 2014; 1435–43. \n",
    "```\n",
    "![Cues to deception in social media communications](Mindmaps/2014-BRISCOE-Cues.jpeg)\n"
   ]
  },
  {
   "cell_type": "markdown",
   "id": "5ffc6b92-2983-45ad-9a69-f1730fe20aed",
   "metadata": {},
   "source": [
    "#### 12. Thermal Facial Analysis for Deception Detection\n",
    "```\n",
    "Rajoub B. A., Zwiggelaar R. Thermal Facial Analysis for Deception Detection.\n",
    "IEEE Trans Inf Forensics Secur. 2014; 9(6):1015–23. \n",
    "```\n",
    "![Thermal Facial Analysis for Deception Detection](Mindmaps/2014-RAJOUB-Thermal.jpeg)\n"
   ]
  },
  {
   "cell_type": "markdown",
   "id": "3899ab5b-13e0-489d-8b36-b39cf0078417",
   "metadata": {},
   "source": [
    "#### 13. Detection of deception in the Mafia party game\n",
    "```\n",
    "Bailey J., Demyanov S., Ramamohanarao K., Leckie C. Detection of deception in the Mafia party game.\n",
    "ICMI 2015 - Proc 2015 ACM Int Conf Multimodal Interact. 2015; 335–42.\n",
    "```\n",
    "![Detection of deception in the Mafia party game](Mindmaps/2015-BAILEY-Detection.jpeg)\n"
   ]
  },
  {
   "cell_type": "markdown",
   "id": "2e254ae6-1521-4c31-880b-3bc6a6b8109b",
   "metadata": {},
   "source": [
    "#### 14. Perinasal indicators of deceptive behavior\n",
    "```\n",
    "Dcosta M., Shastri D., Vilalta R., Burgoon J. K., Pavlidis I. Perinasal indicators of deceptive behavior.\n",
    "2015 11th IEEE Int Conf Work Autom Face Gesture Recognition, FG 2015. 2015; \n",
    "```\n",
    "![Perinasal indicators of deceptive behavior](Mindmaps/2015-DCOSTA-Perinasal.jpeg)\n"
   ]
  },
  {
   "cell_type": "markdown",
   "id": "4eb6ab69-13c0-4890-9e1c-c0790bf69d0f",
   "metadata": {},
   "source": [
    "#### 15. Distinguishing deception from non-deception in Chinese speech\n",
    "```\n",
    "Fan C., Zhao H., Chen X., Fan X., Chen S. Distinguishing deception from non-deception in Chinese speech.\n",
    "Proc 6th Int Conf Intell Control Inf Process ICICIP 2015. 2016; 268–73.\n",
    "```\n",
    "![Distinguishing deception from non-deception in Chinese speech](Mindmaps/2015-FAN-Distinguishing.jpeg)\n"
   ]
  },
  {
   "cell_type": "markdown",
   "id": "02c944fa-9d98-4aa8-b3c8-f628e1da1856",
   "metadata": {},
   "source": [
    "#### 16. Cross-cultural production and detection of deception from speech\n",
    "```\n",
    "Levitan S. I., An G., Wang M., Mendels G., Hirschberg J., Levine M., et al. Cross-cultural production and detection of deception from speech.\n",
    "WMDD 2015 - Proc ACM Work Multimodal Decept Detect co-located with ICMI 2015. 2015; 1–8. \n",
    "```\n",
    "![Cross-cultural production and detection of deception from speech](Mindmaps/2015-LEVITAN-Cross-Cultural.jpeg)\n"
   ]
  },
  {
   "cell_type": "markdown",
   "id": "a2a9c744-3243-43fc-9280-4d8d6b624bea",
   "metadata": {},
   "source": [
    "#### 17. A comparison of features for automatic deception detection in synchronous computer-mediated communication\n",
    "```\n",
    "Pak J., Zhou L. A comparison of features for automatic deception detection in synchronous computer-mediated communication.\n",
    "2015 IEEE Int Conf Intell Secur Informatics Secur World through an Alignment Technol Intell Humans Organ ISI 2015. 2015; 141–3.\n",
    "```\n",
    "![A comparison of features for automatic deception detection in synchronous computer-mediated communication](Mindmaps/2015-PAK-AComparison.jpeg)\n"
   ]
  },
  {
   "cell_type": "markdown",
   "id": "36e57fdd-96a4-460c-bd64-e9d39210079a",
   "metadata": {},
   "source": [
    "#### 18. Deception detection using real-life trial data\n",
    "```\n",
    "Pérez-Rosas V., Abouelenien M., Mihalcea R., Burzo M. Deception detection using real-life trial data.\n",
    "ICMI 2015 - Proc 2015 ACM Int Conf Multimodal Interact. 2015; 59–66.\n",
    "```\n",
    "![Deception detection using real-life trial data](Mindmaps/2015-PÉREZ-ROSAS-Deception.jpeg)"
   ]
  },
  {
   "cell_type": "markdown",
   "id": "0bebfcef-4853-42ea-bf38-824b55f6ea72",
   "metadata": {},
   "source": [
    "#### 19. Experiments in open domain deception detection\n",
    "```\n",
    "Pérez-Rosas V., Mihalcea R. Experiments in open domain deception detection.\n",
    "Conf Proc - EMNLP 2015 Conf Empir Methods Nat Lang Process. 2015; (September):1120–5. \n",
    "```\n",
    "![Experiments in open domain deception detection](Mindmaps/2015-PÉREZ-ROSAS-Experiments.jpeg)\n",
    " "
   ]
  },
  {
   "cell_type": "markdown",
   "id": "f8765654-1ab8-4f3e-973e-78d1daa1af81",
   "metadata": {},
   "source": [
    "#### 20. Is interactional dissynchrony a clue to deception? Insights from automated analysis of nonverbal visual cues\n",
    "```\n",
    "Yu X., Zhang S., Yan Z., Yang F., Huang J., Dunbar N. E., et al. Is interactional dissynchrony a clue to deception? Insights from automated analysis of nonverbal visual cues.\n",
    "IEEE Trans Cybern. 2015; 45(3):492–506. \n",
    "```\n",
    "![Is interactional dissynchrony a clue to deception? Insights from automated analysis of nonverbal visual cues](Mindmaps/2015-YU-IsInteractional.jpeg)\n"
   ]
  },
  {
   "cell_type": "markdown",
   "id": "e30474d8-c9f0-444d-9b9d-cca8177f0ca1",
   "metadata": {},
   "source": [
    "#### 21. Analyzing thermal and visual clues of deception for a non-contact deception detection approach\n",
    "```\n",
    "Abouelenien M., Mihalcea R., Burzo M. Analyzing thermal and visual clues of deception for a non-contact deception detection approach.\n",
    "ACM Int Conf Proceeding Ser. 2016; 29-June-20:1–4.\n",
    "```\n",
    "![Analyzing thermal and visual clues of deception for a non-contact deception detection approach](Mindmaps/2016-ABOUELENIEN-Analyzing.jpeg)\n"
   ]
  },
  {
   "cell_type": "markdown",
   "id": "acda36bc-641b-4eb9-ba70-267b307ac0a8",
   "metadata": {},
   "source": [
    "#### 22. Deceptive Speech Detection based on sparse representation\n",
    "```\n",
    "Fan X., Zhao H., Chen X., Fan C., Chen S. Deceptive Speech Detection based on sparse representation.\n",
    "Proceeding - 2016 IEEE 12th Int Colloq Signal Process its Appl CSPA 2016. 2016; (March):7–11. \n",
    "```\n",
    "![Deceptive Speech Detection based on sparse representation](Mindmaps/2016-FAN-Deceptive.jpeg)\n"
   ]
  },
  {
   "cell_type": "markdown",
   "id": "2e7fca44-7a5f-4e78-831a-2059eed328c5",
   "metadata": {},
   "source": [
    "#### 23. The Truth and Nothing but the Truth: Multimodal Analysis for Deception Detection\n",
    "```\n",
    "Jaiswal M., Tabibu S., Bajpai R. The Truth and Nothing but the Truth: Multimodal Analysis for Deception Detection.\n",
    "IEEE Int Conf Data Min Work ICDMW. 2016; 0:938–43. \n",
    "```\n",
    "![The Truth and Nothing but the Truth: Multimodal Analysis for Deception Detection](Mindmaps/2016-JAISWAL-TheTruth.jpeg)\n"
   ]
  },
  {
   "cell_type": "markdown",
   "id": "93f1670d-6cb4-4af5-a54b-311b27c33155",
   "metadata": {},
   "source": [
    "#### 24. ReLiDSS: Novel lie detection system from speech signal\n",
    "```\n",
    "Nasri H., Ouarda W., Alimi A.M. ReLiDSS: Novel lie detection system from speech signal.\n",
    "Proc IEEE/ACS Int Conf Comput Syst Appl AICCSA. 2016.\n",
    "```\n",
    "\n",
    "![ReLiDSS: Novel lie detection system from speech signal](Mindmaps/2016-NASRI-ReLiDSS.jpeg)\n"
   ]
  },
  {
   "cell_type": "markdown",
   "id": "53460066-362f-4251-8f5f-86c150df46fe",
   "metadata": {},
   "source": [
    "#### 25. Automated detection of user deception in on-line questionnaires with focus on eye tracking use\n",
    "```\n",
    "Rybar M., Bielikova M. Automated detection of user deception in on-line questionnaires with focus on eye tracking use.\n",
    "Proc - 11th Int Work Semant Soc Media Adapt Pers SMAP 2016. 2016; (i):24–8. \n",
    "```\n",
    "![Automated detection of user deception in on-line questionnaires with focus on eye tracking use](Mindmaps/2016-RYBAR-Automated.jpeg)\n"
   ]
  },
  {
   "cell_type": "markdown",
   "id": "fb02e7cf-926f-44bd-96e3-8677ab8fd280",
   "metadata": {},
   "source": [
    "#### 26. Detecting Deceptive Behavior via Integration of Discriminative Features from Multiple Modalities\n",
    "```\n",
    "Abouelenien M., Pérez-Rosas V., Mihalcea R., Burzo M. Detecting Deceptive Behavior via Integration of Discriminative Features from Multiple Modalities.\n",
    "IEEE Trans Inf Forensics Secur. 2017; 12(5):1042–55. \n",
    "```\n",
    "![Detecting Deceptive Behavior via Integration of Discriminative Features from Multiple Modalities](Mindmaps/2017-ABOUELENIEN-Detecting.jpeg)\n"
   ]
  },
  {
   "cell_type": "markdown",
   "id": "022050c4-fa65-483f-b4ed-d6c8f9b6fd62",
   "metadata": {},
   "source": [
    "#### 27. Gender-based multimodal deception detection\n",
    "```\n",
    "Abouelenien M., Pérez-Rosas V., Zhao B., Mihalcea R., Burzo M. Gender-based multimodal deception detection.\n",
    "Proc ACM Symp Appl Comput. 2017; Part F1280:137–44. \n",
    "```\n",
    "![Gender-based multimodal deception detection](Mindmaps/2017-ABOUELENIEN-Gender-Based.jpeg)\n"
   ]
  },
  {
   "cell_type": "markdown",
   "id": "97ea2b41-2394-4f6b-881b-1453519afb55",
   "metadata": {},
   "source": [
    "#### 28. Deep learning driven multimodal fusion for automated deception detection\n",
    "```\n",
    "Gogate M., Adeel A., Hussain A. Deep learning driven multimodal fusion for automated deception detection.\n",
    "2017 IEEE Symp Ser Comput Intell SSCI 2017 - Proc. 2018; 2018-Janua:1–6. \n",
    "```\n",
    "![Deep learning driven multimodal fusion for automated deception detection](Mindmaps/2017-GOGATE-Deep.jpeg)\n"
   ]
  },
  {
   "cell_type": "markdown",
   "id": "d3041d60-d815-4a62-a3ee-10e671af5a33",
   "metadata": {},
   "source": [
    "#### 29. Deception detection in Russian texts\n",
    "```\n",
    "Litvinova O., Litvinova T., Seredin P., Lyell J. Deception detection in Russian texts.\n",
    "15th Conf Eur Chapter Assoc Comput Linguist EACL 2017 - Proc Student Res Work. 2017; 43–52. \n",
    "```\n",
    "![Deception detection in Russian texts](Mindmaps/2017-LITVINOVA-Deception.jpeg)\n"
   ]
  },
  {
   "cell_type": "markdown",
   "id": "b512149e-848d-4e81-bc44-2d48a5e8607e",
   "metadata": {},
   "source": [
    "#### 30. Hybrid acoustic-lexical deep learning approach for deception detection\n",
    "```\n",
    "Mendels G., Levitan S. I., Lee K. Z., Hirschberg J. Hybrid acoustic-lexical deep learning approach for deception detection.\n",
    "Proc Annu Conf Int Speech Commun Assoc INTERSPEECH. 2017; 2017-Augus:1472–6. \n",
    "```\n",
    "![Hybrid acoustic-lexical deep learning approach for deception detection](Mindmaps/2017-MENDELS-Hybrid.jpeg)\n"
   ]
  },
  {
   "cell_type": "markdown",
   "id": "589b7f90-18d6-4324-94d4-a9962a5ba259",
   "metadata": {},
   "source": [
    "#### 31. Construction and analysis of Indonesian-interviews deception corpus\n",
    "```\n",
    "Warnita T., Lestari D. P. Construction and analysis of Indonesian-interviews deception corpus.\n",
    "2017 20th Conf Orient Chapter Int Comm Coord Stand Speech Databases Assess Tech O-COCOSDA 2017. 2018; (November):1–6. \n",
    "```\n",
    "![Construction and analysis of Indonesian-interviews deception corpus](Mindmaps/2017-WARNITA-Construction.jpeg)\n"
   ]
  },
  {
   "cell_type": "markdown",
   "id": "dce510f3-673a-488d-8150-f14aa6e06ab0",
   "metadata": {},
   "source": [
    "#### 32. A multi-view learning approach to deception detection\n",
    "```\n",
    "Carissimi N., Beyan C., Murino V. A multi-view learning approach to deception detection.\n",
    "Proc - 13th IEEE Int Conf Autom Face Gesture Recognition, FG 2018. 2018; 599–606. \n",
    "```\n",
    "![A multi-view learning approach to deception detection](Mindmaps/2018-CARISSIMI-AMulti-View.jpeg)\n"
   ]
  },
  {
   "cell_type": "markdown",
   "id": "9fec030e-66b3-4537-9451-77f482171b89",
   "metadata": {},
   "source": [
    "#### 33. Deception Detection and Analysis in Spoken Dialogues based on FastText\n",
    "```\n",
    "Hosomi N., Sakti S., Yoshino K., Nakamura S. Deception Detection and Analysis in Spoken Dialogues based on FastText.\n",
    "2018 Asia-Pacific Signal Inf Process Assoc Annu Summit Conf APSIPA ASC 2018 - Proc. 2019; (November):139–42. \n",
    "```\n",
    "![Deception Detection and Analysis in Spoken Dialogues based on FastText](Mindmaps/2018-HOSOMI-Deception.jpeg)\n"
   ]
  },
  {
   "cell_type": "markdown",
   "id": "ce815210-7c60-49de-9fdd-0b798ebae3ff",
   "metadata": {},
   "source": [
    "#### 34. Interpretable multimodal deception detection in videos\n",
    "```\n",
    "Karimi H. Interpretable multimodal deception detection in videos.\n",
    "ICMI 2018 - Proc 2018 Int Conf Multimodal Interact. 2018; 511–5.\n",
    "```\n",
    "![Interpretable multimodal deception detection in videos](Mindmaps/2018-KARIMI-Interpretable.jpeg)\n"
   ]
  },
  {
   "cell_type": "markdown",
   "id": "a35660ff-c583-4f5e-8a6c-53fbda8dfcc9",
   "metadata": {},
   "source": [
    "#### 35. Toward End-to-End Deception Detection in Videos\n",
    "```\n",
    "Karimi H., Tang J., Li Y. Toward End-to-End Deception Detection in Videos.\n",
    "Proc - 2018 IEEE Int Conf Big Data, Big Data 2018. 2019; (c):1278–83. \n",
    "```\n",
    "![Toward End-to-End Deception Detection in Videos](Mindmaps/2018-KARIMI-Toward.jpeg)\n"
   ]
  },
  {
   "cell_type": "markdown",
   "id": "394c3312-b749-4aaa-84a2-3219e3d41848",
   "metadata": {},
   "source": [
    "#### 36. Automated verbal credibility assessment of intentions: The model statement technique and predictive modeling\n",
    "```\n",
    "Kleinberg B., van der Toolen Y., Vrij A., Arntz A., Verschuere B. Automated verbal credibility assessment of intentions: The model statement technique and predictive modeling.\n",
    "Appl Cogn Psychol. 2018; 32(3):354–66.\n",
    "```\n",
    "![Automated verbal credibility assessment of intentions: The model statement technique and predictive modeling](Mindmaps/2018-KLEINBERG-Automated.jpeg)\n"
   ]
  },
  {
   "cell_type": "markdown",
   "id": "bf3da5c9-77da-418d-8de6-1187982de1f1",
   "metadata": {},
   "source": [
    "#### 37. Lie Detector With The Analysis Of The Change Of Diameter Pupil and The Eye Movement\n",
    "```\n",
    "Labibah Z., Nasrun M., Setianingsih C. Lie Detector With The Analysis Of The Change Of Diameter Pupil and The Eye Movement.\n",
    "2018;214–20.\n",
    "```\n",
    "![Lie Detector With The Analysis Of The Change Of Diameter Pupil and The Eye Movement](Mindmaps/2018-LABIBAH-Lie.jpeg)\n"
   ]
  },
  {
   "cell_type": "markdown",
   "id": "e85dbd44-769c-4016-ace7-b286f230cb41",
   "metadata": {},
   "source": [
    "#### 38. Acoustic-prosodic indicators of deception and trust in interview dialogues\n",
    "```\n",
    "Levitan S. I., Maredia A., Hirschberg J. Acoustic-prosodic indicators of deception and trust in interview dialogues.\n",
    "Proc Annu Conf Int Speech Commun Assoc INTERSPEECH. 2018; 2018-Septe:416–20.\n",
    "```\n",
    "![Acoustic-prosodic indicators of deception and trust in interview dialogues](Mindmaps/2018-LEVITAN-Acoustic-Prosodic.jpeg)\n"
   ]
  },
  {
   "cell_type": "markdown",
   "id": "8a2db35f-f6a9-4fc4-96c9-d372b49c985d",
   "metadata": {},
   "source": [
    "#### 39. Linguistic cues to deception and perceived deception in interview dialogues\n",
    "```\n",
    "Levitan S. I., Maredia A., Hirschberg J. Linguistic cues to deception and perceived deception in interview dialogues.\n",
    "NAACL HLT 2018 - 2018 Conf North Am Chapter Assoc Comput Linguist Hum Lang Technol - Proc Conf. 2018; 1:1941–50. \n",
    "```\n",
    "![Linguistic cues to deception and perceived deception in interview dialogues](Mindmaps/2018-LEVITAN-Linguistic.jpeg)\n"
   ]
  },
  {
   "cell_type": "markdown",
   "id": "bc7f6972-0dfa-4679-b864-87ef78758cfc",
   "metadata": {},
   "source": [
    "#### 40. An empirical study on detecting deception and cybercrime using artificial neural networks\n",
    "```\n",
    "Mbaziira A. V., Murphy D. R. An empirical study on detecting deception and cybercrime using artificial neural networks.\n",
    "ACM Int Conf Proceeding Ser. 2018; 42–6.\n",
    "```\n",
    "![An empirical study on detecting deception and cybercrime using artificial neural networks](Mindmaps/2018-MBAZIIRA-AnEmpirical.jpeg)\n"
   ]
  },
  {
   "cell_type": "markdown",
   "id": "c9582b3a-af99-4234-a296-f6ee8327f30c",
   "metadata": {},
   "source": [
    "#### 41. Intelligent Deception Detection through Machine Based Interviewing\n",
    "```\n",
    "Orshea J., Crockett K., Khan W., Kindynis P., Antoniades A., Boultadakis G. Intelligent Deception Detection through Machine Based Interviewing.\n",
    "Proc Int Jt Conf Neural Networks. 2018; 2018-July. \n",
    "```\n",
    "![Intelligent Deception Detection through Machine Based Interviewing](Mindmaps/2018-ORSHEA-Intelligent.jpeg)\n"
   ]
  },
  {
   "cell_type": "markdown",
   "id": "b64f1f7a-c4fa-4179-a941-69d4eaf3d123",
   "metadata": {},
   "source": [
    "#### 42. Deception detection using artificial neural network and support vector machine\n",
    "```\n",
    "Srivastava N., Dubey S. Deception detection using artificial neural network and support vector machine.\n",
    "Proc 2nd Int Conf Electron Commun Aerosp Technol ICECA 2018. 2018; (Iceca):1205–8. \n",
    "```\n",
    "![Deception detection using artificial neural network and support vector machine](Mindmaps/2018-SRIVASTAVA-Deception.jpeg)\n",
    " "
   ]
  },
  {
   "cell_type": "markdown",
   "id": "90d3f174-c687-4395-8d86-c33ba8e5d698",
   "metadata": {},
   "source": [
    "#### 43. Construction of a liar corpus and detection of lying situations\n",
    "```\n",
    "Takabatake S., Shimada K., Saitoh T. Construction of a liar corpus and detection of lying situations.\n",
    "Proc - 2018 Jt 10th Int Conf Soft Comput Intell Syst 19th Int Symp Adv Intell Syst SCIS-ISIS 2018. 2018; 971–6. \n",
    "```\n",
    "![Construction of a liar corpus and detection of lying situations](Mindmaps/2018-TAKABATAKE-Construction.jpeg)\n"
   ]
  },
  {
   "cell_type": "markdown",
   "id": "f0a834d5-8652-4388-802f-08aaf798c6b2",
   "metadata": {},
   "source": [
    "#### 44. Detection of Deception Using Facial Expressions Based on Different Classification Algorithms\n",
    "```\n",
    "Thannoon H. H., Ali W. H., Hashim I. A. Detection of Deception Using Facial Expressions Based on Different Classification Algorithms.\n",
    "2018 3rd Sci Conf Electr Eng SCEE 2018. 2018; 51–6. \n",
    "```\n",
    "![Detection of Deception Using Facial Expressions Based on Different Classification Algorithms](Mindmaps/2018-THANNOON-Detection.jpeg)\n"
   ]
  },
  {
   "cell_type": "markdown",
   "id": "46b24468-8036-4a41-aa8a-e16932bc8940",
   "metadata": {},
   "source": [
    "#### 45. Comparative Analysis of Classification Methods for Automatic Deception Detection in Speech\n",
    "```\n",
    "Velichko A., Budkov V., Kagirov I., Karpov A. Comparative Analysis of Classification Methods for Automatic Deception Detection in Speech.\n",
    "In: Karpov A, Jokisch O, Potapova R, editors. Speech and Computer. Cham: Springer International Publishing; 2018. p. 737–46. \n",
    "```\n",
    "![Comparative Analysis of Classification Methods for Automatic Deception Detection in Speech](Mindmaps/2018-VELICHKO-Comparative.jpeg)\n"
   ]
  },
  {
   "cell_type": "markdown",
   "id": "6fc91e18-405e-41de-a82d-743eeafd6fc6",
   "metadata": {},
   "source": [
    "#### 46. Deception detection in videos\n",
    "```\n",
    "Wu Z., Singh B., Davis L. S., Subrahmanian V. S. Deception detection in videos.\n",
    "32nd AAAI Conf Artif Intell AAAI 2018. 2018; 1695–702. \n",
    "```\n",
    "![Deception detection in videos](Mindmaps/2018-WU-Deception.jpeg)\n"
   ]
  },
  {
   "cell_type": "markdown",
   "id": "39271727-b955-47c0-9bac-81597e495c83",
   "metadata": {},
   "source": [
    "#### 47. Convolutional bidirectional long short-term memory for deception detection with acoustic features\n",
    "```\n",
    "Xie Y., Liang R., Tao H., Zhu Y., Zhao L. Convolutional bidirectional long short-term memory for deception detection with acoustic features.\n",
    "IEEE Access. 2018; 6:76527–34. \n",
    "```\n",
    "![Convolutional bidirectional long short-term memory for deception detection with acoustic features](Mindmaps/2018-XIE-Convolutional.jpeg)\n"
   ]
  },
  {
   "cell_type": "markdown",
   "id": "d9bcc01b-356c-4bfe-a5f5-efc8ac2c44eb",
   "metadata": {},
   "source": [
    "#### 48. Automatic deception detection in RGB videos using facial action units\n",
    "```\n",
    "Avola D., Foresti G. L., Cinque L., Pannone D. Automatic deception detection in RGB videos using facial action units.\n",
    "ACM Int Conf Proceeding Ser. 2019; \n",
    "```\n",
    "![Automatic deception detection in RGB videos using facial action units](Mindmaps/2019-AVOLA-Automatic.jpeg)\n"
   ]
  },
  {
   "cell_type": "markdown",
   "id": "e1591b0a-83b6-4620-bb52-13e829131234",
   "metadata": {},
   "source": [
    "#### 49. Automatic long-term deception detection in group interaction videos\n",
    "```\n",
    "Bai C., Bolonkin M., Burgoon J., Chen C., Dunbar N., Singh B., et al. Automatic long-term deception detection in group interaction videos.\n",
    "Proc - IEEE Int Conf Multimed Expo. 2019; 2019-July:1600–5. \n",
    "```\n",
    "![Automatic long-term deception detection in group interaction videos](Mindmaps/2019-BAI-Automatic.jpeg)\n"
   ]
  },
  {
   "cell_type": "markdown",
   "id": "1fff0f58-9130-4dad-8a0b-d60b9bcf2338",
   "metadata": {},
   "source": [
    "#### 50. Joint learning of conversational temporal dynamics and acoustic features for speech deception detection in dialog games\n",
    "```\n",
    "Chou H. C., Liu Y. W., Lee C. C. Joint learning of conversational temporal dynamics and acoustic features for speech deception detection in dialog games.\n",
    "2019 Asia-Pacific Signal Inf Process Assoc Annu Summit Conf APSIPA ASC 2019. 2019;(November):1044–50. \n",
    "```\n",
    "![Joint learning of conversational temporal dynamics and acoustic features for speech deception detection in dialog games](Mindmaps/2019-CHOU-Joint.jpeg)\n"
   ]
  },
  {
   "cell_type": "markdown",
   "id": "12591ce7-fc1d-4e81-b4ff-0761f173498b",
   "metadata": {},
   "source": [
    "#### 51. Face-focused cross-stream network for deception detection in videos\n",
    "```\n",
    "Ding M., Zhao A., Lu Z., Xiang T., Wen J. R. Face-focused cross-stream network for deception detection in videos.\n",
    "Proc IEEE Comput Soc Conf Comput Vis Pattern Recognit. 2019; 2019-June(2):7794–803. \n",
    "```\n",
    "![Face-focused cross-stream network for deception detection in videos](Mindmaps/2019-DING-Face-Focused.jpeg)\n"
   ]
  },
  {
   "cell_type": "markdown",
   "id": "f3d7466d-3a5b-4477-818c-6d943f1e25b6",
   "metadata": {},
   "source": [
    "#### 52. Improved semi-supervised autoencoder for deception detection\n",
    "```\n",
    "Fu H., Lei P., Tao H., Zhao L., Yang J. Improved semi-supervised autoencoder for deception detection.\n",
    "PLoS One [Internet]. 2019; 14(10):1–13. Available from: http://dx.doi.org/10.1371/journal.pone.0223361\n",
    "```\n",
    "![Improved semi-supervised autoencoder for deception detection](Mindmaps/2019-FU-Improved.jpeg)\n"
   ]
  },
  {
   "cell_type": "markdown",
   "id": "b9d569bd-56bc-4b4f-b2b4-c9d0ec5719a7",
   "metadata": {},
   "source": [
    "#### 53. Can a Robot Catch You Lying? A Machine Learning System to Detect Lies During Interactions\n",
    "```\n",
    "Gonzalez-Billandon J., Aroyo A. M., Tonelli A., Pasquali D., Sciutti A., Gori M., et al. Can a Robot Catch You Lying? A Machine Learning System to Detect Lies During Interactions.\n",
    "Front Robot AI. 2019; 6(July):1–12. \n",
    "```\n",
    "![Can a Robot Catch You Lying? A Machine Learning System to Detect Lies During Interactions](Mindmaps/2019-GONZALEZ-BILLANDON-CanARobot.jpeg)\n"
   ]
  },
  {
   "cell_type": "markdown",
   "id": "abd150a8-2d34-4424-bf13-b5dfb25120ed",
   "metadata": {},
   "source": [
    "#### 54. Bag-of-lies: A multimodal dataset for deception detection\n",
    "```\n",
    "Gupta V., Agarwal M., Arora M., Chakraborty T., Singh R., Vatsa M. Bag-of-lies: A multimodal dataset for deception detection.\n",
    "IEEE Comput Soc Conf Comput Vis Pattern Recognit Work. 2019; 2019-June:83–90. \n",
    "```\n",
    "![Bag-of-lies: A multimodal dataset for deception detection](Mindmaps/2019-GUPTA-Bag-of-Lies.jpeg)\n"
   ]
  },
  {
   "cell_type": "markdown",
   "id": "80f17685-2aab-4511-9348-6dfa966ad2cd",
   "metadata": {},
   "source": [
    "#### 55. Detecting concealed information in text and speech\n",
    "```\n",
    "Hu S. Detecting concealed information in text and speech.\n",
    "ACL 2019 - 57th Annu Meet Assoc Comput Linguist Proc Conf. 2020; 402–12.\n",
    "```\n",
    "![Detecting concealed information in text and speech](Mindmaps/2019-HU-Detecting.jpeg)\n"
   ]
  },
  {
   "cell_type": "markdown",
   "id": "3e15764c-aa01-4143-8211-754bb1d809ca",
   "metadata": {},
   "source": [
    "#### 56. Detecting Deception in Political Debates Using Acoustic and Textual Features\n",
    "```\n",
    "Kopev D., Ali A., Koychev I., Nakov P. Detecting Deception in Political Debates Using Acoustic and Textual Features.\n",
    "2019 IEEE Autom Speech Recognit Underst Work ASRU 2019 - Proc. 2019; 652–9. \n",
    "```\n",
    "![Detecting Deception in Political Debates Using Acoustic and Textual Features](Mindmaps/2019-KOPEV-Detecting.jpeg)\n"
   ]
  },
  {
   "cell_type": "markdown",
   "id": "b1437994-8f14-49fb-ba69-6e21fb1a5a2b",
   "metadata": {},
   "source": [
    "#### 57. How smart your smartphone is in lie detection?\n",
    "```\n",
    "Mizanur Rahman M., Shome A., Chellappan S., Alim Al Islam A. B. M. How smart your smartphone is in lie detection?\n",
    "ACM Int Conf Proceeding Ser. 2019; 338–47. \n",
    "```\n",
    "![How smart your smartphone is in lie detection?](Mindmaps/2019-RAHMAN-HowSmart.jpeg)\n"
   ]
  },
  {
   "cell_type": "markdown",
   "id": "6e33acbb-081e-4533-9382-19381db9a577",
   "metadata": {},
   "source": [
    "#### 58. High-level features for multimodal deception detection in videos\n",
    "```\n",
    "Rill-Garcia R., Escalante H. J., Villasenor-Pineda L., Reyes-Meza V. High-level features for multimodal deception detection in videos.\n",
    "IEEE Comput Soc Conf Comput Vis Pattern Recognit Work. 2019; 2019-June:1565–73. \n",
    "```\n",
    "![High-level features for multimodal deception detection in videos](Mindmaps/2019-RILL-GARCIA-High-Level.jpeg)\n"
   ]
  },
  {
   "cell_type": "markdown",
   "id": "2b718c10-f614-4a55-aac7-d6b2748cabcb",
   "metadata": {},
   "source": [
    "#### 59. Speech Deception Detection Algorithm Based on SVM and Acoustic Features\n",
    "```\n",
    "Tao H., Lei P., Wang M., Wang J., Fu H. Speech Deception Detection Algorithm Based on SVM and Acoustic Features.\n",
    "Proc IEEE 7th Int Conf Comput Sci Netw Technol ICCSNT 2019. 2019;31–3.\n",
    "```\n",
    "![Speech Deception Detection Algorithm Based on SVM and Acoustic Features](Mindmaps/2019-TAO-Speech.jpeg)\n"
   ]
  },
  {
   "cell_type": "markdown",
   "id": "06112a01-92d9-4f6c-a459-7ebd08cfa1be",
   "metadata": {},
   "source": [
    "#### 60. Robust Algorithm for Multimodal Deception Detection\n",
    "```\n",
    "Venkatesh S., Ramachandra R., Bours P. Robust Algorithm for Multimodal Deception Detection.\n",
    "Proc - 2nd Int Conf Multimed Inf Process Retrieval, MIPR 2019. 2019; 534–7.\n",
    "```\n",
    "![Robust Algorithm for Multimodal Deception Detection](Mindmaps/2019-VENKATESH-Robust.jpeg)\n"
   ]
  },
  {
   "cell_type": "markdown",
   "id": "3563cdef-3bf9-4139-afe6-f97a4ea77864",
   "metadata": {},
   "source": [
    "#### 61. Building a Better Lie Detector with BERT: The Difference between Truth and Lies\n",
    "```\n",
    "Barsever D., Singh S., Neftci E. Building a Better Lie Detector with BERT: The Difference between Truth and Lies.\n",
    "Proc Int Jt Conf Neural Networks. 2020; \n",
    "```\n",
    "![Building a Better Lie Detector with BERT: The Difference between Truth and Lies](Mindmaps/2020-BARSEVER-Building.jpeg)\n"
   ]
  },
  {
   "cell_type": "markdown",
   "id": "e62e7ef7-4cdf-45b8-a7f3-7adb6e7fbeca",
   "metadata": {},
   "source": [
    "#### 62. Automated Deception Detection of Males and Females from Non-Verbal Facial Micro-Gestures\n",
    "```\n",
    "Crockett K., O’Shea J., Khan W. Automated Deception Detection of Males and Females from Non-Verbal Facial Micro-Gestures.\n",
    "Proc Int Jt Conf Neural Networks. 2020;\n",
    "```\n",
    "![Automated Deception Detection of Males and Females from Non-Verbal Facial Micro-Gestures](Mindmaps/2020-CROCKETT-Automated.jpeg)\n"
   ]
  },
  {
   "cell_type": "markdown",
   "id": "3c1f4800-5245-4d11-bfc1-0385287eefff",
   "metadata": {},
   "source": [
    "#### 63. Introducing Representations of Facial Affect in Automated Multimodal Deception Detection\n",
    "```\n",
    "Mathur L., Matarić M. J. Introducing Representations of Facial Affect in Automated Multimodal Deception Detection.\n",
    "ICMI 2020 - Proc 2020 Int Conf Multimodal Interact. 2020; 305–14. \n",
    "```\n",
    "![Introducing Representations of Facial Affect in Automated Multimodal Deception Detection](Mindmaps/2020-MATHUR-Introducing.jpeg)\n"
   ]
  },
  {
   "cell_type": "markdown",
   "id": "d5b65155-ac9e-421d-93db-14dea353f26c",
   "metadata": {},
   "source": [
    "#### 64. Multilingual Deception Detection by Autonomous Agents\n",
    "```\n",
    "Hershkovitch Neiterman E., Bitan M., Azaria A. Multilingual Deception Detection by Autonomous Agents.\n",
    "Web Conf 2020 - Companion World Wide Web Conf WWW 2020. 2020; 480–4. \n",
    "```\n",
    "![Multilingual Deception Detection by Autonomous Agents](Mindmaps/2020-NEITERMAN-Multilingual.jpeg)\n"
   ]
  },
  {
   "cell_type": "markdown",
   "id": "15d8b581-60bc-4c00-b8da-433ae40e504f",
   "metadata": {},
   "source": [
    "#### 65. Your eyes never lie: A robot magician can tell if you are lying\n",
    "```\n",
    "Pasquali D., Aroyo A. M., Gonzalez-Billandon J., Rea F., Sandini G., Sciutti A. Your eyes never lie: A robot magician can tell if you are lying.\n",
    "ACM/IEEE Int Conf Human-Robot Interact. 2020;392–4. \n",
    "```\n",
    "![Your eyes never lie: A robot magician can tell if you are lying](Mindmaps/2020-PASQUALI-YourEyes.jpeg)\n"
   ]
  },
  {
   "cell_type": "markdown",
   "id": "bb4b7a8c-e276-4f48-a0c5-70ba1e48e4b5",
   "metadata": {},
   "source": [
    "#### 66. Multimodal Deception Detection using Real-Life Trial Data\n",
    "```\n",
    "Sen U. M., Pérez-Rosas V., Yanikoglu B., Abouelenien M., Burzo M., Mihalcea R. Multimodal Deception Detection using Real-Life Trial Data.\n",
    "IEEE Trans Affect Comput. 2020; 3045(c):1–14. \n",
    "```\n",
    "![Multimodal Deception Detection using Real-Life Trial Data](Mindmaps/2020-SEN-Multimodal.jpeg)\n"
   ]
  },
  {
   "cell_type": "markdown",
   "id": "9276eb2f-78ae-41d4-b87c-cfaa773d3ae3",
   "metadata": {},
   "source": [
    "#### 67. Emotion Transformation Feature: Novel Feature for Deception Detection in Videos\n",
    "```\n",
    "Yang J. T., Liu G. M., Huang S. C. H. Emotion Transformation Feature: Novel Feature for Deception Detection in Videos.\n",
    "In: Proceedings - International Conference on Image Processing, ICIP. 2020. p. 1726–30. \n",
    "```\n",
    "![Emotion Transformation Feature: Novel Feature for Deception Detection in Videos](Mindmaps/2020-YANG-Emotion.jpeg)\n"
   ]
  },
  {
   "cell_type": "markdown",
   "id": "7ff62ed9-fcd4-4a07-9395-91faf107e7b7",
   "metadata": {},
   "source": [
    "#### 68. Development of Spectral Speech Features for Deception Detection Using Neural Networks\n",
    "```\n",
    "FERNANDES, Sinead V.; ULLAH, Muhammad S. Development of Spectral Speech Features for Deception Detection Using Neural Networks.\n",
    "2021 IEEE 12th Annual Information Technology, Electronics and Mobile Communication Conference, IEMCON 2021, [S. l.], p. 198–203, 2021.\n",
    "b. DOI: 10.1109/IEMCON53756.2021.9623077.\n",
    "```\n",
    "![Development of Spectral Speech Features for Deception Detection Using Neural Networks](Mindmaps/2021-FERNANDES-Development.jpeg)"
   ]
  },
  {
   "cell_type": "markdown",
   "id": "a6145150-9b69-4447-bc44-524579c62824",
   "metadata": {},
   "source": [
    "#### 69. Use of Machine Learning for Deception Detection from Spectral and Cepstral Features of Speech Signals\n",
    "```\n",
    "FERNANDES, Sinead V.; ULLAH, Muhammad S. Use of Machine Learning for Deception Detection from Spectral and Cepstral Features of Speech Signals.\n",
    "IEEE Access, [S. l.], v. 9, p. 78925–78935, 2021. a. DOI: 10.1109/ACCESS.2021.3084200.\n",
    "```\n",
    "![Use of Machine Learning for Deception Detection from Spectral and Cepstral Features of Speech Signals](Mindmaps/2021-FERNANDES-Use.jpeg)"
   ]
  },
  {
   "cell_type": "markdown",
   "id": "ab111e2d-c65e-47a2-aa8d-408b24b2ffe0",
   "metadata": {},
   "source": [
    "#### 70. Non-invasive Deception Detection in Videos Using Machine Learning Techniques\n",
    "```\n",
    "ISLAM, Siam; SAHA, Popin; CHOWDHURY, Touhidul; SOROWAR, Asif; RAB, Raqeebir. Non-invasive Deception Detection in Videos Using Machine Learning Techniques.\n",
    "2021 5th International Conference on Electrical Engineering and Information and Communication Technology, ICEEICT 2021,\n",
    "[S. l.], 2021. DOI: 10.1109/ICEEICT53905.2021.9667928.\n",
    "```\n",
    "![Non-invasive Deception Detection in Videos Using Machine Learning Techniques](Mindmaps/2021-ISLAM-Non-invasive.jpeg)"
   ]
  },
  {
   "cell_type": "markdown",
   "id": "b6361087-93de-4a52-828e-63f9f62052d0",
   "metadata": {},
   "source": [
    "#### 71. Multimodal Political Deception Detection\n",
    "```\n",
    "KAMBOJ, Manvi; HESSLER, Christian; ASNANI, Priyanka; RIANI, Kais; ABOUELENIEN, Mohamed.\n",
    "Multimodal Political Deception Detection. IEEE Multimedia, [S. l.], v. 28, n. 1, p. 94–102, 2021.\n",
    "DOI: 10.1109/MMUL.2020.3048044.\n",
    "```\n",
    "![Multimodal Political Deception Detection](Mindmaps/2021-KAMBOJ-Multimodal.jpeg)"
   ]
  },
  {
   "cell_type": "markdown",
   "id": "3c77f162-2cb8-4a13-b4d0-8a9fe935aafd",
   "metadata": {},
   "source": [
    "#### 72. LieNet: A Deep Convolution Neural Networks Framework for Detecting Deception\n",
    "```\n",
    "KARNATI, Mohan; SEAL, Ayan; YAZIDI, Anis; KREJCAR, Ondrej. LieNet: A Deep Convolution Neural Networks Framework for Detecting Deception.\n",
    "IEEE Transactions on Cognitive and Developmental Systems, [S. l.], v. 8920, n. c, p. 1–15, 2021. DOI: 10.1109/TCDS.2021.3086011.\n",
    "```\n",
    "![LieNet: A Deep Convolution Neural Networks Framework for Detecting Deception](Mindmaps/2021-KARNATI-LieNet.jpeg)"
   ]
  },
  {
   "cell_type": "markdown",
   "id": "72e8f3b1-1d00-4be2-80c4-bd667983d38a",
   "metadata": {},
   "source": [
    "#### 73. Deception in the eyes of deceiver: A computer vision and machine learning based automated deception detection\n",
    "```\n",
    "KHAN, Wasiq; CROCKETT, Keeley; O’SHEA, James; HUSSAIN, Abir; KHAN, Bilal M.\n",
    "Deception in the eyes of deceiver: A computer vision and machine learning based automated deception detection.\n",
    "Expert Systems with Applications, [S. l.], v. 169, n. February 2020, p. 114341, 2021.\n",
    "DOI: 10.1016/j.eswa.2020.114341. Disponível em: https://doi.org/10.1016/j.eswa.2020.114341.```\n",
    "![Deception in the eyes of deceiver: A computer vision and machine learning based automated deception detection](Mindmaps/2021-KHAN-Deception.jpeg)"
   ]
  },
  {
   "cell_type": "markdown",
   "id": "abbd37a5-0264-483d-a91b-6e673cf0142f",
   "metadata": {},
   "source": [
    "#### 74. How humans impair automated deception detection performance\n",
    "```\n",
    "KLEINBERG, Bennett; VERSCHUERE, Bruno. How humans impair automated deception detection performance.\n",
    "Acta Psychologica, [S. l.], v. 213, n. March 2020, p. 103250, 2021. DOI: 10.1016/j.actpsy.2020.103250.\n",
    "Available in: https://doi.org/10.1016/j.actpsy.2020.103250.\n",
    "```\n",
    "![How humans impair automated deception detection performance](Mindmaps/2021-KLEINBERG-How.jpeg)"
   ]
  },
  {
   "cell_type": "markdown",
   "id": "c2e12246-a0b9-46c1-8fc2-e2b029a62cf9",
   "metadata": {},
   "source": [
    "#### 75. Affect-Aware Deep Belief Network Representations for Multimodal Unsupervised Deception Detection\n",
    "```\n",
    "MATHUR, Leena; MATARIC, Maja J. Affect-Aware Deep Belief Network Representations for Multimodal Unsupervised Deception Detection.\n",
    "Proceedings - 2021 16th IEEE International Conference on Automatic Face and Gesture Recognition, FG 2021, [S. l.], 2021.\n",
    "DOI: 10.1109/FG52635.2021.9667050.\n",
    "```\n",
    "![Affect-Aware Deep Belief Network Representations for Multimodal Unsupervised Deception Detection](Mindmaps/2021-MATHUR-Affect.jpeg)"
   ]
  },
  {
   "cell_type": "markdown",
   "id": "da570093-a461-4116-8feb-6aa20a325687",
   "metadata": {},
   "source": [
    "#### 76. Unsupervised Audio-Visual Subspace Alignment for High-Stakes Deception Detection\n",
    "```\n",
    "MATHUR, Leena; MATARIĆ, Maja J. Unsupervised Audio-Visual Subspace Alignment for High-Stakes Deception Detection.\n",
    "Proceedings - 2021 IEEE International Conference on Acoustics, Speech and Signal Processing, ICASSP 2021, [S. l.], p. 2255–2259, 2021.\n",
    "DOI: 10.1109/ICASSP39728.2021.9413550.\n",
    "```\n",
    "![Unsupervised Audio-Visual Subspace Alignment for High-Stakes Deception Detection](Mindmaps/2021-MATHUR-Unsupervised.jpeg)"
   ]
  },
  {
   "cell_type": "markdown",
   "id": "8e0a4075-d9d6-4be9-8c5b-a816b0bb1ed2",
   "metadata": {},
   "source": [
    "#### 77. Identity unbiased deception detection by 2d-to-3d face reconstruction\n",
    "```\n",
    "NGO, Le Minh; WANG, Wei; MANDIRA, Burak; KARAOGLU, Sezer; BOUMA, Henri; DIBEKLIOGLU, Hamdi; GEVERS, Theo.\n",
    "Identity unbiased deception detection by 2d-to-3d face reconstruction.\n",
    "Proceedings - 2021 IEEE Winter Conference on Applications of Computer Vision, WACV 2021, [S. l.], p. 145–154, 2021.\n",
    "DOI: 10.1109/WACV48630.2021.00019.\n",
    "```\n",
    "![Identity unbiased deception detection by 2d-to-3d face reconstruction](Mindmaps/2021-NGO-Identity.jpeg)"
   ]
  },
  {
   "cell_type": "markdown",
   "id": "ad832a9a-1ffb-4ce3-84df-75a2351b1d8b",
   "metadata": {},
   "source": [
    "#### 78. Deception detection in text and its relation to the cultural dimension of individualism/collectivism\n",
    "```\n",
    "PAPANTONIOU, Katerina; PAPADAKOS, Panagiotis; PATKOS, Theodore; FLOURIS, George; ANDROUTSOPOULOS, Ion; PLEXOUSAKIS, Dimitris.\n",
    "Deception detection in text and its relation to the cultural dimension of individualism/collectivism.\n",
    "Natural Language Engineering, [S. l.], p. 1–62, 2021. DOI: 10.1017/S1351324921000152.\n",
    "```\n",
    "![Deception detection in text and its relation to the cultural dimension of individualism/collectivism](Mindmaps/2021-PAPANTONIOU-Deception.jpeg)"
   ]
  },
  {
   "cell_type": "markdown",
   "id": "d5b9df78-20dd-4f00-baf6-336d0958fc77",
   "metadata": {},
   "source": [
    "#### 79. Detecting Lies is a Child (Robot)’s Play: Gaze-Based Lie Detection in HRI\n",
    "```\n",
    "PASQUALI, Dario; GONZALEZ-BILLANDON, Jonas; AROYO, Alexander Mois; SANDINI, Giulio; SCIUTTI, Alessandra; REA, Francesco.\n",
    "Detecting Lies is a Child (Robot)’s Play: Gaze-Based Lie Detection in HRI.\n",
    "International Journal of Social Robotics, [S. l.], 2021. DOI: 10.1007/s12369-021-00822-5.\n",
    "Available in: https://doi.org/10.1007/s12369-021-00822-5.\n",
    "```\n",
    "![Detecting Lies is a Child (Robot)’s Play: Gaze-Based Lie Detection in HRI](Mindmaps/2021-PASQUALI-Detecting.jpeg)"
   ]
  },
  {
   "cell_type": "markdown",
   "id": "15135a88-2752-4fb8-8b33-d9fc5c2aa604",
   "metadata": {},
   "source": [
    "#### 80. Deception detection and remote physiological monitoring: A dataset and baseline experimental results\n",
    "```\n",
    "SPETH, Jeremy; VANCE, Nathan; CZAJKA, Adam; BOWYER, Kevin W.; WRIGHT, Diane; FLYNN, Patrick.\n",
    "Deception detection and remote physiological monitoring: A dataset and baseline experimental results.\n",
    "2021 IEEE International Joint Conference on Biometrics, IJCB 2021, [S. l.], 2021.\n",
    "DOI: 10.1109/IJCB52358.2021.9484409.\n",
    "```\n",
    "![Deception detection and remote physiological monitoring: A dataset and baseline experimental results](Mindmaps/2021-SPETH-Deception.jpeg)"
   ]
  },
  {
   "cell_type": "markdown",
   "id": "8d5c1e78-7921-4bfe-bb94-0c16a168934e",
   "metadata": {},
   "source": [
    "#### 81. Automatic Detection of Deceptive and Truthful Paralinguistic Information in Speech using Two-Level Machine Learning Model\n",
    "```\n",
    "VELICHKO, A. N.; KARPOV, A. A.\n",
    "Automatic Detection of Deceptive and Truthful Paralinguistic Information in Speech using Two-Level Machine Learning Model.\n",
    "Komp’juternaja Lingvistika i Intellektual’nye Tehnologii, [S. l.], v. 2021-June, n. 20, p. 698–704, 2021.\n",
    "DOI: 10.28995/20757182202120698704.\n",
    "```\n",
    "![Automatic Detection of Deceptive and Truthful Paralinguistic Information in Speech using Two-Level Machine Learning Model](Mindmaps/2021-VELICHKO-Automatic.jpeg)"
   ]
  },
  {
   "cell_type": "markdown",
   "id": "006c7be8-b4d4-4d93-81ac-d96b39179894",
   "metadata": {},
   "source": [
    "### Finnish!!!"
   ]
  },
  {
   "cell_type": "code",
   "execution_count": null,
   "id": "151f6a9c-8fbb-4954-8b4c-bcdb26eb4cec",
   "metadata": {},
   "outputs": [],
   "source": []
  }
 ],
 "metadata": {
  "kernelspec": {
   "display_name": "Python 3 (ipykernel)",
   "language": "python",
   "name": "python3"
  },
  "language_info": {
   "codemirror_mode": {
    "name": "ipython",
    "version": 3
   },
   "file_extension": ".py",
   "mimetype": "text/x-python",
   "name": "python",
   "nbconvert_exporter": "python",
   "pygments_lexer": "ipython3",
   "version": "3.9.12"
  }
 },
 "nbformat": 4,
 "nbformat_minor": 5
}
